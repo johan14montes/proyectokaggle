{
 "cells": [
  {
   "cell_type": "code",
   "execution_count": 2,
   "id": "dc02d2e5",
   "metadata": {},
   "outputs": [],
   "source": [
    "# IMPORTAR LIBRERÍAS\n",
    "\n",
    "import numpy as np\n",
    "import pandas as pd\n",
    "import matplotlib.pyplot as plt\n",
    "from sklearn.model_selection import cross_val_score\n",
    "from sklearn.ensemble import RandomForestClassifier, StackingClassifier\n",
    "from sklearn.linear_model import LogisticRegression\n",
    "from xgboost import XGBClassifier\n",
    "from sklearn.preprocessing import LabelEncoder\n",
    "from sklearn.model_selection import train_test_split\n",
    "# from google.colab import files"
   ]
  },
  {
   "cell_type": "code",
   "execution_count": 4,
   "id": "f2b25de9",
   "metadata": {},
   "outputs": [],
   "source": [
    "# CARGAR DATASETS\n",
    "\n",
    "train_df = pd.read_csv(\"train.csv\")\n",
    "test_df = pd.read_csv(\"test.csv\")"
   ]
  },
  {
   "cell_type": "code",
   "execution_count": 5,
   "id": "1929d2d9",
   "metadata": {},
   "outputs": [],
   "source": [
    "# SELECCIÓN DE FEATURES Y TARGET\n",
    "features = [\n",
    "    'FAMI_EDUCACIONMADRE', 'ESTU_VALORMATRICULAUNIVERSIDAD', 'FAMI_ESTRATOVIVIENDA',\n",
    "    'FAMI_TIENEINTERNET', 'FAMI_TIENECOMPUTADOR', 'FAMI_EDUCACIONPADRE',\n",
    "    'ESTU_HORASSEMANATRABAJA', 'FAMI_TIENELAVADORA', 'FAMI_TIENEAUTOMOVIL',\n",
    "    'ESTU_PAGOMATRICULAPROPIO', 'coef_1', 'coef_2', 'coef_3', 'coef_4'\n",
    "]\n",
    "target = 'RENDIMIENTO_GLOBAL'"
   ]
  },
  {
   "cell_type": "code",
   "execution_count": 6,
   "id": "0a9a5ff8",
   "metadata": {},
   "outputs": [],
   "source": [
    "# MAPEO MATRÍCULA\n",
    "\n",
    "matricula_map = {\n",
    "    'Entre 1 millón y menos de 2.5 millones': 1.75,\n",
    "    'Entre 2.5 millones y menos de 4 millones': 3.25,\n",
    "    'Menos de 500 mil': 0.250,\n",
    "    'Entre 500 mil y menos de 1 millón': 0.75,\n",
    "    'Entre 4 millones y menos de 5.5 millones': 4.75,\n",
    "    'Más de 7 millones': 7.75,\n",
    "    'Entre 5.5 millones y menos de 7 millones': 6.25,\n",
    "    'No pagó matrícula': 0,\n",
    "    'no info': -1\n",
    "}"
   ]
  },
  {
   "cell_type": "code",
   "execution_count": 7,
   "id": "640a7987",
   "metadata": {},
   "outputs": [],
   "source": [
    "# PREPROCESAMIENTO DEL DATASET DE ENTRENAMIENTO \n",
    "\n",
    "df = train_df[features + [target]].copy().fillna('no info')\n",
    "df['ESTU_VALORMATRICULAUNIVERSIDAD'] = df['ESTU_VALORMATRICULAUNIVERSIDAD'].map(matricula_map)\n",
    "df[target] = df[target].map({'bajo': 0, 'medio-bajo': 1, 'medio-alto': 2, 'alto': 3})\n",
    "df = pd.get_dummies(df)\n",
    "\n",
    "# PREPROCESAMIENTO DEL DATASET DE PRUEBA O TEST\n",
    "\n",
    "test_ids = test_df['ID']\n",
    "test_df_proc = test_df[features].copy().fillna('no info')\n",
    "test_df_proc['ESTU_VALORMATRICULAUNIVERSIDAD'] = test_df_proc['ESTU_VALORMATRICULAUNIVERSIDAD'].map(matricula_map)\n",
    "test_df_proc = pd.get_dummies(test_df_proc)"
   ]
  },
  {
   "cell_type": "code",
   "execution_count": 8,
   "id": "d440752a",
   "metadata": {},
   "outputs": [
    {
     "name": "stderr",
     "output_type": "stream",
     "text": [
      "C:\\Users\\jimen\\AppData\\Local\\Packages\\PythonSoftwareFoundation.Python.3.11_qbz5n2kfra8p0\\LocalCache\\local-packages\\Python311\\site-packages\\xgboost\\training.py:183: UserWarning: [18:11:34] WARNING: C:\\actions-runner\\_work\\xgboost\\xgboost\\src\\learner.cc:738: \n",
      "Parameters: { \"use_label_encoder\" } are not used.\n",
      "\n",
      "  bst.update(dtrain, iteration=i, fobj=obj)\n",
      "C:\\Users\\jimen\\AppData\\Local\\Packages\\PythonSoftwareFoundation.Python.3.11_qbz5n2kfra8p0\\LocalCache\\local-packages\\Python311\\site-packages\\xgboost\\training.py:183: UserWarning: [18:14:25] WARNING: C:\\actions-runner\\_work\\xgboost\\xgboost\\src\\learner.cc:738: \n",
      "Parameters: { \"use_label_encoder\" } are not used.\n",
      "\n",
      "  bst.update(dtrain, iteration=i, fobj=obj)\n",
      "C:\\Users\\jimen\\AppData\\Local\\Packages\\PythonSoftwareFoundation.Python.3.11_qbz5n2kfra8p0\\LocalCache\\local-packages\\Python311\\site-packages\\xgboost\\training.py:183: UserWarning: [18:16:44] WARNING: C:\\actions-runner\\_work\\xgboost\\xgboost\\src\\learner.cc:738: \n",
      "Parameters: { \"use_label_encoder\" } are not used.\n",
      "\n",
      "  bst.update(dtrain, iteration=i, fobj=obj)\n",
      "C:\\Users\\jimen\\AppData\\Local\\Packages\\PythonSoftwareFoundation.Python.3.11_qbz5n2kfra8p0\\LocalCache\\local-packages\\Python311\\site-packages\\xgboost\\training.py:183: UserWarning: [18:19:12] WARNING: C:\\actions-runner\\_work\\xgboost\\xgboost\\src\\learner.cc:738: \n",
      "Parameters: { \"use_label_encoder\" } are not used.\n",
      "\n",
      "  bst.update(dtrain, iteration=i, fobj=obj)\n",
      "C:\\Users\\jimen\\AppData\\Local\\Packages\\PythonSoftwareFoundation.Python.3.11_qbz5n2kfra8p0\\LocalCache\\local-packages\\Python311\\site-packages\\xgboost\\training.py:183: UserWarning: [18:21:31] WARNING: C:\\actions-runner\\_work\\xgboost\\xgboost\\src\\learner.cc:738: \n",
      "Parameters: { \"use_label_encoder\" } are not used.\n",
      "\n",
      "  bst.update(dtrain, iteration=i, fobj=obj)\n",
      "C:\\Users\\jimen\\AppData\\Local\\Packages\\PythonSoftwareFoundation.Python.3.11_qbz5n2kfra8p0\\LocalCache\\local-packages\\Python311\\site-packages\\xgboost\\training.py:183: UserWarning: [18:23:52] WARNING: C:\\actions-runner\\_work\\xgboost\\xgboost\\src\\learner.cc:738: \n",
      "Parameters: { \"use_label_encoder\" } are not used.\n",
      "\n",
      "  bst.update(dtrain, iteration=i, fobj=obj)\n"
     ]
    },
    {
     "name": "stdout",
     "output_type": "stream",
     "text": [
      "✅ Accuracy promedio con XGBoost: 0.3955\n"
     ]
    }
   ],
   "source": [
    "# ALINEACIÓN DE COLUMNAS O FEATURES\n",
    "\n",
    "X_train = df.drop(columns=[target])\n",
    "y_train = df[target]\n",
    "X_test = test_df_proc.reindex(columns=X_train.columns, fill_value=0)\n",
    "\n",
    "# MODELO SOLO CON XGBOOST\n",
    "\n",
    "xgb_model = XGBClassifier(\n",
    "    n_estimators=300,\n",
    "    max_depth=6,\n",
    "    learning_rate=0.1,\n",
    "    subsample=0.9,\n",
    "    colsample_bytree=0.9,\n",
    "    objective='multi:softprob',\n",
    "    eval_metric='mlogloss',\n",
    "    use_label_encoder=False,\n",
    "    random_state=42\n",
    ")\n",
    "\n",
    "xgb_model.fit(X_train, y_train)\n",
    "\n",
    "scores = cross_val_score(xgb_model, X_train, y_train, cv=5, scoring='accuracy')\n",
    "print(f\"✅ Accuracy promedio con XGBoost: {scores.mean():.4f}\")\n",
    "\n",
    "y_pred = xgb_model.predict(X_test)"
   ]
  },
  {
   "cell_type": "code",
   "execution_count": 10,
   "id": "e0c8c614",
   "metadata": {},
   "outputs": [
    {
     "name": "stdout",
     "output_type": "stream",
     "text": [
      "✅ Archivo 'submission.csv' generado exitosamente.\n"
     ]
    }
   ],
   "source": [
    "# PREDICCIÓN Y GENERACIÓN DE RESULTADOS\n",
    "inv_map = {0: 'bajo', 1: 'medio-bajo', 2: 'medio-alto', 3: 'alto'}\n",
    "\n",
    "\n",
    "y_pred_labels = [inv_map[i] for i in y_pred]\n",
    "\n",
    "submission = pd.DataFrame({\n",
    "    'ID': test_ids,\n",
    "    'RENDIMIENTO_GLOBAL': y_pred_labels\n",
    "})\n",
    "\n",
    "submission.to_csv('submission.csv', index=False)\n",
    "print(\"✅ Archivo 'submission.csv' generado exitosamente.\")\n"
   ]
  }
 ],
 "metadata": {
  "kernelspec": {
   "display_name": "Python 3",
   "language": "python",
   "name": "python3"
  },
  "language_info": {
   "codemirror_mode": {
    "name": "ipython",
    "version": 3
   },
   "file_extension": ".py",
   "mimetype": "text/x-python",
   "name": "python",
   "nbconvert_exporter": "python",
   "pygments_lexer": "ipython3",
   "version": "3.11.9"
  }
 },
 "nbformat": 4,
 "nbformat_minor": 5
}
