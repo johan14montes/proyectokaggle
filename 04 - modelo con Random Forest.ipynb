{
 "cells": [
  {
   "cell_type": "code",
   "execution_count": 1,
   "id": "30b8b31c",
   "metadata": {},
   "outputs": [],
   "source": [
    "# Instalar pip install scikit-learn\n",
    "# IMPORTAR LIBRERÍAS\n",
    "\n",
    "import numpy as np\n",
    "import pandas as pd\n",
    "from sklearn.ensemble import RandomForestClassifier\n",
    "from sklearn.model_selection import cross_val_score\n",
    "from sklearn.model_selection import train_test_split"
   ]
  },
  {
   "cell_type": "code",
   "execution_count": 2,
   "id": "615065d4",
   "metadata": {},
   "outputs": [],
   "source": [
    "\n",
    "# CARGAR DATASETS\n",
    "\n",
    "train_df = pd.read_csv(\"train.csv\")\n",
    "test_df = pd.read_csv(\"test.csv\")"
   ]
  },
  {
   "cell_type": "code",
   "execution_count": 3,
   "id": "716310ac",
   "metadata": {},
   "outputs": [],
   "source": [
    "# SELECCIÓN DE VARIABLES\n",
    "\n",
    "features = [\n",
    "    'FAMI_EDUCACIONMADRE', 'ESTU_VALORMATRICULAUNIVERSIDAD', 'FAMI_ESTRATOVIVIENDA',\n",
    "    'FAMI_TIENEINTERNET', 'FAMI_TIENECOMPUTADOR', 'FAMI_EDUCACIONPADRE',\n",
    "    'ESTU_HORASSEMANATRABAJA', 'FAMI_TIENELAVADORA', 'FAMI_TIENEAUTOMOVIL',\n",
    "    'ESTU_PAGOMATRICULAPROPIO', 'coef_1', 'coef_2', 'coef_3', 'coef_4'\n",
    "]\n",
    "target = 'RENDIMIENTO_GLOBAL'\n",
    "\n",
    "\n",
    "# MAPEO MATRÍCULA\n",
    "\n",
    "matricula_map = {\n",
    "    'Entre 1 millón y menos de 2.5 millones': 1.75,\n",
    "    'Entre 2.5 millones y menos de 4 millones': 3.25,\n",
    "    'Menos de 500 mil': 0.250,\n",
    "    'Entre 500 mil y menos de 1 millón': 0.75,\n",
    "    'Entre 4 millones y menos de 5.5 millones': 4.75,\n",
    "    'Más de 7 millones': 7.75,\n",
    "    'Entre 5.5 millones y menos de 7 millones': 6.25,\n",
    "    'No pagó matrícula': 0,\n",
    "    'no info': -1\n",
    "}"
   ]
  },
  {
   "cell_type": "code",
   "execution_count": 4,
   "id": "e8eeac94",
   "metadata": {},
   "outputs": [],
   "source": [
    "# PREPROCESAMIENTO TRAIN\n",
    "\n",
    "df = train_df[features + [target]].copy().fillna('no info')\n",
    "df['ESTU_VALORMATRICULAUNIVERSIDAD'] = df['ESTU_VALORMATRICULAUNIVERSIDAD'].map(matricula_map)\n",
    "df[target] = df[target].map({'bajo': 0, 'medio-bajo': 1, 'medio-alto': 2, 'alto': 3})\n",
    "df = pd.get_dummies(df)\n",
    "\n",
    "\n",
    "# PREPROCESAMIENTO TEST\n",
    "\n",
    "test_ids = test_df['ID']\n",
    "test_df_proc = test_df[features].copy().fillna('no info')\n",
    "test_df_proc['ESTU_VALORMATRICULAUNIVERSIDAD'] = test_df_proc['ESTU_VALORMATRICULAUNIVERSIDAD'].map(matricula_map)\n",
    "test_df_proc = pd.get_dummies(test_df_proc)\n",
    "\n",
    "# Alinear columnas de test con las de train\n",
    "X_train = df.drop(columns=[target])\n",
    "y_train = df[target]\n",
    "X_test = test_df_proc.reindex(columns=X_train.columns, fill_value=0)\n"
   ]
  },
  {
   "cell_type": "code",
   "execution_count": 5,
   "id": "9a5984d8",
   "metadata": {},
   "outputs": [
    {
     "name": "stdout",
     "output_type": "stream",
     "text": [
      "✅ Accuracy promedio con Random Forest: 0.3895\n",
      "✅ Archivo 'submission.csv' generado exitosamente.\n"
     ]
    }
   ],
   "source": [
    "\n",
    "# MODELO RANDOM FOREST\n",
    "\n",
    "rf_model = RandomForestClassifier(\n",
    "    n_estimators=200,\n",
    "    max_depth=15,\n",
    "    random_state=42,\n",
    "    n_jobs=-1\n",
    ")\n",
    "\n",
    "rf_model.fit(X_train, y_train)\n",
    "\n",
    "\n",
    "# VALIDACIÓN\n",
    "\n",
    "scores = cross_val_score(rf_model, X_train, y_train, cv=5, scoring='accuracy')\n",
    "print(f\"✅ Accuracy promedio con Random Forest: {scores.mean():.4f}\")\n",
    "\n",
    "\n",
    "# PREDICCIÓN Y SUBMISSION\n",
    "\n",
    "y_pred = rf_model.predict(X_test)\n",
    "\n",
    "inv_map = {0: 'bajo', 1: 'medio-bajo', 2: 'medio-alto', 3: 'alto'}\n",
    "y_pred_labels = [inv_map[i] for i in y_pred]\n",
    "\n",
    "submission = pd.DataFrame({\n",
    "    'ID': test_ids,\n",
    "    'RENDIMIENTO_GLOBAL': y_pred_labels\n",
    "})\n",
    "\n",
    "submission.to_csv('submission.csv', index=False)\n",
    "print(\"✅ Archivo 'submission.csv' generado exitosamente.\")\n"
   ]
  }
 ],
 "metadata": {
  "kernelspec": {
   "display_name": "Python 3",
   "language": "python",
   "name": "python3"
  },
  "language_info": {
   "codemirror_mode": {
    "name": "ipython",
    "version": 3
   },
   "file_extension": ".py",
   "mimetype": "text/x-python",
   "name": "python",
   "nbconvert_exporter": "python",
   "pygments_lexer": "ipython3",
   "version": "3.11.9"
  }
 },
 "nbformat": 4,
 "nbformat_minor": 5
}
