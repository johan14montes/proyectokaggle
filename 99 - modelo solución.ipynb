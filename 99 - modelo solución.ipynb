{
 "cells": [
  {
   "cell_type": "code",
   "execution_count": 1,
   "id": "d757c96d",
   "metadata": {},
   "outputs": [],
   "source": [
    "# Instalar las librerías necesarias pip install xgboost scikit-learn\n",
    "\n",
    "# IMPORTAR LIBRERÍAS\n",
    "\n",
    "import numpy as np\n",
    "import pandas as pd\n",
    "import matplotlib.pyplot as plt\n",
    "from sklearn.model_selection import cross_val_score\n",
    "from sklearn.ensemble import RandomForestClassifier, StackingClassifier\n",
    "from sklearn.linear_model import LogisticRegression\n",
    "from xgboost import XGBClassifier\n",
    "from sklearn.preprocessing import LabelEncoder\n",
    "from sklearn.model_selection import train_test_split\n",
    "# Para colab from google.colab import files\n"
   ]
  },
  {
   "cell_type": "code",
   "execution_count": null,
   "id": "c0a9b010",
   "metadata": {},
   "outputs": [],
   "source": [
    "# CARGAR DATASETS DE LA COMPETENCIA EN VS CODE\n",
    "\n",
    "train_df = pd.read_csv(\"train.csv\")\n",
    "test_df = pd.read_csv(\"test.csv\")\n",
    "\n",
    "\n",
    "# CARGAR DATASETS SI ES DENTRO DEL NOTEBOOK DE KAGGLE\n",
    "\n",
    "# train_path = '/kaggle/input/udea-ai-4-eng-20251-pruebas-saber-pro-colombia/train.csv'\n",
    "# test_path = '/kaggle/input/udea-ai-4-eng-20251-pruebas-saber-pro-colombia/test.csv'\n",
    "\n",
    "# z = pd.read_csv(train_path)\n",
    "# print(\"✅ Dataset cargado:\", z.shape)\n",
    "\n",
    "# train_df = pd.read_csv(train_path)\n",
    "# test_df = pd.read_csv(test_path)\n",
    "\n",
    "# SELECCIÓN DE FEATURES Y TARGET\n",
    "\n",
    "features = [\n",
    "    'FAMI_EDUCACIONMADRE', 'ESTU_VALORMATRICULAUNIVERSIDAD', 'FAMI_ESTRATOVIVIENDA',\n",
    "    'FAMI_TIENEINTERNET', 'FAMI_TIENECOMPUTADOR', 'FAMI_EDUCACIONPADRE',\n",
    "    'ESTU_HORASSEMANATRABAJA', 'FAMI_TIENELAVADORA', 'FAMI_TIENEAUTOMOVIL',\n",
    "    'ESTU_PAGOMATRICULAPROPIO', 'coef_1', 'coef_2', 'coef_3', 'coef_4'\n",
    "]\n",
    "target = 'RENDIMIENTO_GLOBAL'\n",
    "\n",
    "# MAPEO MATRÍCULA\n",
    "\n",
    "matricula_map = {\n",
    "    'Entre 1 millón y menos de 2.5 millones': 1.75,\n",
    "    'Entre 2.5 millones y menos de 4 millones': 3.25,\n",
    "    'Menos de 500 mil': 0.250,\n",
    "    'Entre 500 mil y menos de 1 millón': 0.75,\n",
    "    'Entre 4 millones y menos de 5.5 millones': 4.75,\n",
    "    'Más de 7 millones': 7.75,\n",
    "    'Entre 5.5 millones y menos de 7 millones': 6.25,\n",
    "    'No pagó matrícula': 0,\n",
    "    'no info': -1\n",
    "}\n"
   ]
  },
  {
   "cell_type": "code",
   "execution_count": null,
   "id": "70ffe90e",
   "metadata": {},
   "outputs": [],
   "source": [
    "# PREPROCESAMIENTO DEL DATASET DE ENTRENAMIENTO O TRAIN\n",
    "\n",
    "df = train_df[features + [target]].copy().fillna('no info')\n",
    "df['ESTU_VALORMATRICULAUNIVERSIDAD'] = df['ESTU_VALORMATRICULAUNIVERSIDAD'].map(matricula_map)\n",
    "df[target] = df[target].map({'bajo': 0, 'medio-bajo': 1, 'medio-alto': 2, 'alto': 3})\n",
    "df = pd.get_dummies(df)\n",
    "\n",
    "# PREPROCESAMIENTO DEL DATASET DE PRUEBA O TEST\n",
    "\n",
    "test_ids = test_df['ID']\n",
    "test_df_proc = test_df[features].copy().fillna('no info')\n",
    "test_df_proc['ESTU_VALORMATRICULAUNIVERSIDAD'] = test_df_proc['ESTU_VALORMATRICULAUNIVERSIDAD'].map(matricula_map)\n",
    "test_df_proc = pd.get_dummies(test_df_proc)\n",
    "\n",
    "# ALINEACIÓN DE COLUMNAS O FEATURES\n",
    "\n",
    "X_train = df.drop(columns=[target])\n",
    "y_train = df[target]\n",
    "X_test = test_df_proc.reindex(columns=X_train.columns, fill_value=0)"
   ]
  },
  {
   "cell_type": "code",
   "execution_count": null,
   "id": "d2a790a4",
   "metadata": {},
   "outputs": [
    {
     "name": "stdout",
     "output_type": "stream",
     "text": [
      "✅ Accuracy promedio con Stacking: 0.3965\n"
     ]
    }
   ],
   "source": [
    "# MODELADO CON STACKING CLASSIFIER, QUE COMBINA XGBOOST CON RANDOM FOREST\n",
    "\n",
    "estimators = [\n",
    "    ('xgb', XGBClassifier(\n",
    "        n_estimators=300,\n",
    "        max_depth=6,\n",
    "        learning_rate=0.1,\n",
    "        subsample=0.9,\n",
    "        colsample_bytree=0.9,\n",
    "        objective='multi:softprob',\n",
    "        eval_metric='mlogloss',\n",
    "        use_label_encoder=False,\n",
    "        random_state=42\n",
    "    )),\n",
    "    ('rf', RandomForestClassifier(n_estimators=100, max_depth=10, random_state=42))\n",
    "]\n",
    "\n",
    "stack_model = StackingClassifier(\n",
    "    estimators=estimators,\n",
    "    final_estimator=LogisticRegression(max_iter=1000),\n",
    "    passthrough=True,  \n",
    "    cv=3,\n",
    "    n_jobs=-1\n",
    ")\n",
    "\n",
    "stack_model.fit(X_train, y_train)\n",
    "\n",
    "# VALIDACIÓN CRUZADA \n",
    "\n",
    "scores = cross_val_score(stack_model, X_train, y_train, cv=5, scoring='accuracy')\n",
    "print(f\"✅ Accuracy promedio con Stacking: {scores.mean():.4f}\")"
   ]
  },
  {
   "cell_type": "code",
   "execution_count": 5,
   "id": "c1258bf0",
   "metadata": {},
   "outputs": [
    {
     "name": "stdout",
     "output_type": "stream",
     "text": [
      "✅ Archivo 'submission.csv' generado exitosamente.\n"
     ]
    }
   ],
   "source": [
    "# PREDICCIÓN Y GENERACIÓN DE RESULTADOS\n",
    "\n",
    "y_pred = stack_model.predict(X_test)\n",
    "\n",
    "inv_map = {0: 'bajo', 1: 'medio-bajo', 2: 'medio-alto', 3: 'alto'}\n",
    "y_pred_labels = [inv_map[i] for i in y_pred]\n",
    "\n",
    "submission = pd.DataFrame({\n",
    "    'ID': test_ids,\n",
    "    'RENDIMIENTO_GLOBAL': y_pred_labels\n",
    "})\n",
    "\n",
    "submission.to_csv('submission.csv', index=False)\n",
    "print(\"✅ Archivo 'submission.csv' generado exitosamente.\")\n",
    "\n",
    "# DESCARGAR EL SUBMISSION\n",
    "# para colab y descargarlo files.download('submission.csv')\n",
    "\n"
   ]
  }
 ],
 "metadata": {
  "kernelspec": {
   "display_name": "Python 3",
   "language": "python",
   "name": "python3"
  },
  "language_info": {
   "codemirror_mode": {
    "name": "ipython",
    "version": 3
   },
   "file_extension": ".py",
   "mimetype": "text/x-python",
   "name": "python",
   "nbconvert_exporter": "python",
   "pygments_lexer": "ipython3",
   "version": "3.11.9"
  }
 },
 "nbformat": 4,
 "nbformat_minor": 5
}
