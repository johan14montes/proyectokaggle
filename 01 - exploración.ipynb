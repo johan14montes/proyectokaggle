{
 "cells": [
  {
   "cell_type": "code",
   "execution_count": null,
   "id": "3d3cddca",
   "metadata": {
    "vscode": {
     "languageId": "plaintext"
    }
   },
   "outputs": [],
   "source": [
    "\n",
    "import pandas as pd\n",
    "\n",
    "df = pd.read_csv('train.csv')  # Asegúrate de que esté en la misma carpeta\n",
    "\n",
    "print(df.head())"
   ]
  }
 ],
 "metadata": {
  "language_info": {
   "name": "python"
  }
 },
 "nbformat": 4,
 "nbformat_minor": 5
}
